{
 "cells": [
  {
   "cell_type": "code",
   "execution_count": 4,
   "metadata": {},
   "outputs": [
    {
     "name": "stdout",
     "output_type": "stream",
     "text": [
      "ig-Pay atin-Lay Eat-way \n"
     ]
    }
   ],
   "source": [
    "user_input = input(\"Enter a string : \")\n",
    "user_input = user_input.split(\" \")\n",
    "vowels=\"aeiouAEIOU\"\n",
    "final_output = []\n",
    "for item in user_input:\n",
    "    word=item\n",
    "    if word[0] in vowels:\n",
    "        final_output.append(word+\"-way\")\n",
    "    else:\n",
    "        \n",
    "        text=word[1:]+\"-\"+word[0]+\"ay\"\n",
    "        final_output.append(text)\n",
    "user_output=\"\"\n",
    "for items in final_output:\n",
    "    user_output+=items+\" \"\n",
    "    \n",
    "print(user_output)"
   ]
  },
  {
   "cell_type": "code",
   "execution_count": 1,
   "metadata": {},
   "outputs": [
    {
     "data": {
      "text/plain": [
       "['__call__',\n",
       " '__class__',\n",
       " '__delattr__',\n",
       " '__dir__',\n",
       " '__doc__',\n",
       " '__eq__',\n",
       " '__format__',\n",
       " '__ge__',\n",
       " '__getattribute__',\n",
       " '__getstate__',\n",
       " '__gt__',\n",
       " '__hash__',\n",
       " '__init__',\n",
       " '__init_subclass__',\n",
       " '__le__',\n",
       " '__lt__',\n",
       " '__module__',\n",
       " '__name__',\n",
       " '__ne__',\n",
       " '__new__',\n",
       " '__qualname__',\n",
       " '__reduce__',\n",
       " '__reduce_ex__',\n",
       " '__repr__',\n",
       " '__self__',\n",
       " '__setattr__',\n",
       " '__sizeof__',\n",
       " '__str__',\n",
       " '__subclasshook__',\n",
       " '__text_signature__']"
      ]
     },
     "execution_count": 1,
     "metadata": {},
     "output_type": "execute_result"
    }
   ],
   "source": [
    "dir(vars)"
   ]
  },
  {
   "cell_type": "code",
   "execution_count": 2,
   "metadata": {},
   "outputs": [
    {
     "name": "stdout",
     "output_type": "stream",
     "text": [
      "['John Smith', 'Jay Santi', 'Eva Kuki']\n"
     ]
    }
   ],
   "source": [
    "names = [\"john smith\", \"jay santi\", \"eva kuki\"]\n",
    "\n",
    "for index,name in enumerate(names):\n",
    "    name=name.split(\" \")\n",
    "    name = [n.capitalize() for n in name]\n",
    "    name=name[0]+\" \"+name[1]\n",
    "    names[index]=name\n",
    "\n",
    "print(names)\n"
   ]
  },
  {
   "cell_type": "code",
   "execution_count": 3,
   "metadata": {},
   "outputs": [
    {
     "name": "stdout",
     "output_type": "stream",
     "text": [
      "['John Smith', 'Jay Santi', 'Eva Kuki']\n"
     ]
    }
   ],
   "source": [
    "names = [\"john smith\", \"jay santi\", \"eva kuki\"]\n",
    "\n",
    "new = [name.title() for name in names]\n",
    "\n",
    "print(new)"
   ]
  },
  {
   "cell_type": "code",
   "execution_count": 5,
   "metadata": {},
   "outputs": [
    {
     "name": "stdout",
     "output_type": "stream",
     "text": [
      "[9, 11, 11]\n"
     ]
    }
   ],
   "source": [
    "usernames = [\"john 1990\", \"alberta1970\", \"magnola2000\"]\n",
    "\n",
    "length = [len(user) for user in usernames]\n",
    "\n",
    "print(length)"
   ]
  },
  {
   "cell_type": "code",
   "execution_count": null,
   "metadata": {},
   "outputs": [],
   "source": []
  }
 ],
 "metadata": {
  "kernelspec": {
   "display_name": "Python 3",
   "language": "python",
   "name": "python3"
  },
  "language_info": {
   "codemirror_mode": {
    "name": "ipython",
    "version": 3
   },
   "file_extension": ".py",
   "mimetype": "text/x-python",
   "name": "python",
   "nbconvert_exporter": "python",
   "pygments_lexer": "ipython3",
   "version": "3.11.3"
  },
  "orig_nbformat": 4
 },
 "nbformat": 4,
 "nbformat_minor": 2
}
